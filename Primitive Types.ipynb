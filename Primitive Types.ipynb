{
 "cells": [
  {
   "cell_type": "markdown",
   "id": "6d1eb799-3206-4233-b5ba-264f22e5b811",
   "metadata": {},
   "source": [
    "# Primitive Types"
   ]
  },
  {
   "cell_type": "code",
   "execution_count": 1,
   "id": "a8d8350f-3a88-45c1-8f8d-a9c975f1b058",
   "metadata": {},
   "outputs": [],
   "source": [
    "def count_bits(x):\n",
    "    num_bits = 0\n",
    "    while x:\n",
    "        num_bits += x & 1\n",
    "        x >>= 1\n",
    "    return num_bits"
   ]
  },
  {
   "cell_type": "code",
   "execution_count": 4,
   "id": "f4aba84a-f01f-4c0e-b143-6bdd632d8e0c",
   "metadata": {},
   "outputs": [
    {
     "name": "stdout",
     "output_type": "stream",
     "text": [
      "1\n",
      "2\n",
      "3\n",
      "6\n",
      "25\n",
      "25\n",
      "100\n"
     ]
    }
   ],
   "source": [
    "print(count_bits(1))\n",
    "print(count_bits(10))\n",
    "print(count_bits(100))\n",
    "print(count_bits(1000))\n",
    "print(count_bits(10000000000000000000000))\n",
    "print(count_bits(20000000000000000000000))\n",
    "print(count_bits(1000000000000000000000000000000000000000000000000000000000000000000000000000000000))"
   ]
  },
  {
   "cell_type": "code",
   "execution_count": 10,
   "id": "4b5e8743-6d14-45fe-a106-6f732e92859b",
   "metadata": {},
   "outputs": [],
   "source": [
    "def parity(x):\n",
    "    result = 0\n",
    "    while x:\n",
    "        result ^= x & 1\n",
    "        print('computing... result: ', result, 'x: ', f\"{x:b}\")\n",
    "        x >>= 1\n",
    "        print('computing... x shifted:', f\"{x:b}\")\n",
    "    return result"
   ]
  },
  {
   "cell_type": "code",
   "execution_count": 11,
   "id": "ee16ab9a-3490-4ff9-a96f-50689811c925",
   "metadata": {},
   "outputs": [
    {
     "name": "stdout",
     "output_type": "stream",
     "text": [
      "computing... result:  1 x:  1011\n",
      "conputing... x shifted: 101\n",
      "computing... result:  0 x:  101\n",
      "conputing... x shifted: 10\n",
      "computing... result:  0 x:  10\n",
      "conputing... x shifted: 1\n",
      "computing... result:  1 x:  1\n",
      "conputing... x shifted: 0\n"
     ]
    },
    {
     "data": {
      "text/plain": [
       "1"
      ]
     },
     "execution_count": 11,
     "metadata": {},
     "output_type": "execute_result"
    }
   ],
   "source": [
    "parity(0b1011)"
   ]
  },
  {
   "cell_type": "code",
   "execution_count": 15,
   "id": "538c81eb-a323-4bef-903d-a3875778ccf8",
   "metadata": {},
   "outputs": [],
   "source": [
    "def parity(x):\n",
    "    result = 0\n",
    "    while x:\n",
    "        result ^= 1\n",
    "        print('computing... result: ', result, 'x: ', f\"{x:b}\")\n",
    "        x &= x - 1\n",
    "        print('computing... drop lowest set bit of x:', f\"{x:b}\")\n",
    "    return result"
   ]
  },
  {
   "cell_type": "code",
   "execution_count": 16,
   "id": "b0eb92c4-3869-4cad-b677-f995392060ca",
   "metadata": {},
   "outputs": [
    {
     "name": "stdout",
     "output_type": "stream",
     "text": [
      "computing... result:  1 x:  1011\n",
      "computing... drop lowest set bit of x: 1010\n",
      "computing... result:  0 x:  1010\n",
      "computing... drop lowest set bit of x: 1000\n",
      "computing... result:  1 x:  1000\n",
      "computing... drop lowest set bit of x: 0\n"
     ]
    },
    {
     "data": {
      "text/plain": [
       "1"
      ]
     },
     "execution_count": 16,
     "metadata": {},
     "output_type": "execute_result"
    }
   ],
   "source": [
    "parity(0b1011)"
   ]
  },
  {
   "cell_type": "code",
   "execution_count": null,
   "id": "66ea5754-bf3f-4936-bd0a-ba06b0d53ea3",
   "metadata": {},
   "outputs": [],
   "source": []
  }
 ],
 "metadata": {
  "kernelspec": {
   "display_name": "Python 3 (ipykernel)",
   "language": "python",
   "name": "python3"
  },
  "language_info": {
   "codemirror_mode": {
    "name": "ipython",
    "version": 3
   },
   "file_extension": ".py",
   "mimetype": "text/x-python",
   "name": "python",
   "nbconvert_exporter": "python",
   "pygments_lexer": "ipython3",
   "version": "3.13.2"
  }
 },
 "nbformat": 4,
 "nbformat_minor": 5
}
